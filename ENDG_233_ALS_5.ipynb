{
  "nbformat": 4,
  "nbformat_minor": 0,
  "metadata": {
    "colab": {
      "provenance": [],
      "authorship_tag": "ABX9TyPxq1yqL/xUgQ6JkgZwYrNf",
      "include_colab_link": true
    },
    "kernelspec": {
      "name": "python3",
      "display_name": "Python 3"
    },
    "language_info": {
      "name": "python"
    }
  },
  "cells": [
    {
      "cell_type": "markdown",
      "metadata": {
        "id": "view-in-github",
        "colab_type": "text"
      },
      "source": [
        "<a href=\"https://colab.research.google.com/github/Stuti-2004/ENDG_233/blob/main/ENDG_233_ALS_5.ipynb\" target=\"_parent\"><img src=\"https://colab.research.google.com/assets/colab-badge.svg\" alt=\"Open In Colab\"/></a>"
      ]
    },
    {
      "cell_type": "markdown",
      "source": [
        "# **ALS-5 Loops**\n",
        "Stuti Garg\n",
        "October 7 2022"
      ],
      "metadata": {
        "id": "qkE8uxZu1LF7"
      }
    },
    {
      "cell_type": "markdown",
      "source": [
        "**Programming assignments:**\n",
        "P1. The Calgary Stampede is a ten-day event that happens every year in Calgary and is known as\n",
        "'The Greatest Outdoor Show on Earth'.\n",
        "Write a program by creating a list that stores and prints the years of the Calgary Stampede event,\n",
        "knowing that was started in 1912 and did not happen in 2020 due to pandemic restrictions.\n",
        "\n"
      ],
      "metadata": {
        "id": "IX5sinz505Op"
      }
    },
    {
      "cell_type": "code",
      "source": [
        "year = 1912\n",
        "year_list = []\n",
        "\n",
        "for year in range (1912, 2022):\n",
        "  if (year == 2020):\n",
        "    continue\n",
        "  year_list.append(year)\n",
        "  year += 1\n",
        "\n",
        "print(year_list)\n",
        "\n",
        "#list(range(4, 10, 2)) # 4, 6, 8, 10\n",
        "# for i in range(0,5,2):"
      ],
      "metadata": {
        "colab": {
          "base_uri": "https://localhost:8080/"
        },
        "id": "AjCjDrSX1YGl",
        "outputId": "b8d48cd7-e31c-4f7c-e64a-eee313652879"
      },
      "execution_count": null,
      "outputs": [
        {
          "output_type": "stream",
          "name": "stdout",
          "text": [
            "[1912, 1913, 1914, 1915, 1916, 1917, 1918, 1919, 1920, 1921, 1922, 1923, 1924, 1925, 1926, 1927, 1928, 1929, 1930, 1931, 1932, 1933, 1934, 1935, 1936, 1937, 1938, 1939, 1940, 1941, 1942, 1943, 1944, 1945, 1946, 1947, 1948, 1949, 1950, 1951, 1952, 1953, 1954, 1955, 1956, 1957, 1958, 1959, 1960, 1961, 1962, 1963, 1964, 1965, 1966, 1967, 1968, 1969, 1970, 1971, 1972, 1973, 1974, 1975, 1976, 1977, 1978, 1979, 1980, 1981, 1982, 1983, 1984, 1985, 1986, 1987, 1988, 1989, 1990, 1991, 1992, 1993, 1994, 1995, 1996, 1997, 1998, 1999, 2000, 2001, 2002, 2003, 2004, 2005, 2006, 2007, 2008, 2009, 2010, 2011, 2012, 2013, 2014, 2015, 2016, 2017, 2018, 2019, 2021]\n"
          ]
        }
      ]
    },
    {
      "cell_type": "markdown",
      "source": [
        "P2. Write a program that creates a string variable and initialize it with your name and performs the\n",
        "following operations:\n",
        "\n",
        "Find the length of your name\n",
        "\n",
        "Find whether the character 'a' is present in the name. If yes, nd the number of times the character 'a' appears in your name and the location where it appears.\n",
        "\n"
      ],
      "metadata": {
        "id": "wdy7KjEl1CJn"
      }
    },
    {
      "cell_type": "code",
      "source": [
        "my_str = \"SHAAM\"\n",
        "a_list = []\n",
        "num_a = 0\n",
        "index = 0\n",
        "# cannot use a for loop with a set\n",
        "\n",
        "print(f'length: {len(my_str)}')\n",
        "\n",
        "for character in my_str:\n",
        "  if (character == 'a' or character == 'A'):\n",
        "    num_a += 1\n",
        "    a_list.append(index)\n",
        "  index += 1\n",
        "\n",
        "if (len(a_list) > 0):\n",
        "  print(f'A appears {len(a_list)} times at indices {a_list}')\n",
        "else:\n",
        "  print(\"There are no As\")"
      ],
      "metadata": {
        "colab": {
          "base_uri": "https://localhost:8080/"
        },
        "id": "ILqqXCzc2cb6",
        "outputId": "f479e74e-d224-4412-fa23-208c6b57f6b2"
      },
      "execution_count": null,
      "outputs": [
        {
          "output_type": "stream",
          "name": "stdout",
          "text": [
            "length: 5\n",
            "A appears 2 times at indices [2, 3]\n"
          ]
        }
      ]
    },
    {
      "cell_type": "markdown",
      "source": [
        "P3. A little guessing number game.\n",
        "A human player has to guess a number in a range of 1 to n. The player inputs his guess. The\n",
        "program informs the player if this number is larger, smaller, or equal to the secret number, i.e. the\n",
        "number that the program has randomly created. If the player wants to give up, he or she can input a\n",
        "0 or a negative number.\n",
        "Hint: The program needs to create a random number. Therefore it's necessary to include the\n",
        "module \"random\"."
      ],
      "metadata": {
        "id": "tP-kBpPS1Euc"
      }
    },
    {
      "cell_type": "code",
      "source": [
        "import random\n",
        "\n",
        "number = random.randint(1,10)\n",
        "guess = int(input(\"Guess a number: \"))\n",
        "\n",
        "while guess != number and guess > 0:\n",
        "  if (guess < number):\n",
        "    print(\"Too low\")\n",
        "\n",
        "  else:\n",
        "    print(\"Too high\")\n",
        "\n",
        "  guess = int(input(\"Guess a number: \"))\n",
        "\n",
        "if (guess <= 0):\n",
        "  print(\"Thanks for playing\")\n",
        "else:\n",
        "  print(\"You got it!\")\n",
        ""
      ],
      "metadata": {
        "colab": {
          "base_uri": "https://localhost:8080/"
        },
        "id": "AJ2L49VrovYh",
        "outputId": "b162baba-8203-41b8-e8a2-9cf182151c9f"
      },
      "execution_count": null,
      "outputs": [
        {
          "output_type": "stream",
          "name": "stdout",
          "text": [
            "Guess a number: 6\n",
            "You got it!\n"
          ]
        }
      ]
    },
    {
      "cell_type": "markdown",
      "source": [
        "P4. Write a program that prints the Armstrong numbers between 1 to 999.\n",
        "Note: Armstrong numbers are the three-digit numbers whose sum of cubes of the digits of the\n",
        "number is equal to the number itself. For example .153 = + + = 15313 53 33\n",
        "\n"
      ],
      "metadata": {
        "id": "s4SIQ89Y1Grr"
      }
    },
    {
      "cell_type": "code",
      "source": [
        "for integer in range(1, 1000):\n",
        "  value = 0\n",
        "  str_digits = str(integer)\n",
        "\n",
        "  for digit in str_digits:\n",
        "    value += int(digit)**3\n",
        "\n",
        "  if (value == integer):\n",
        "    print(str_digits)\n",
        "\n",
        "\n"
      ],
      "metadata": {
        "colab": {
          "base_uri": "https://localhost:8080/"
        },
        "id": "58ROseK5qx4D",
        "outputId": "8bbd0050-15dc-49a3-d717-8d766e7081b6"
      },
      "execution_count": null,
      "outputs": [
        {
          "output_type": "stream",
          "name": "stdout",
          "text": [
            "1\n",
            "153\n",
            "370\n",
            "371\n",
            "407\n"
          ]
        }
      ]
    }
  ]
}