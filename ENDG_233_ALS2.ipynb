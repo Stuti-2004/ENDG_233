{
  "nbformat": 4,
  "nbformat_minor": 0,
  "metadata": {
    "colab": {
      "provenance": [],
      "authorship_tag": "ABX9TyOE+jlbj4Vn08PUdu/wJliq",
      "include_colab_link": true
    },
    "kernelspec": {
      "name": "python3",
      "display_name": "Python 3"
    },
    "language_info": {
      "name": "python"
    }
  },
  "cells": [
    {
      "cell_type": "markdown",
      "metadata": {
        "id": "view-in-github",
        "colab_type": "text"
      },
      "source": [
        "<a href=\"https://colab.research.google.com/github/Stuti-2004/ENDG_233/blob/main/ENDG_233_ALS2.ipynb\" target=\"_parent\"><img src=\"https://colab.research.google.com/assets/colab-badge.svg\" alt=\"Open In Colab\"/></a>"
      ]
    },
    {
      "cell_type": "markdown",
      "source": [
        "# **ALS-2 Variables and Expressions**\n",
        "Stuti Garg\n",
        "September 14 2022"
      ],
      "metadata": {
        "id": "xulibS2Jlgl3"
      }
    },
    {
      "cell_type": "markdown",
      "source": [
        "Python is a scripting language\n",
        "A script = the documnet/ list of sequential commands\n",
        "interpreter = interpretted line by line vs. a compiled language which uses a compiler\n",
        "Open source = everyone can contribute to it (libraries)\n"
      ],
      "metadata": {
        "id": "1djMGJM2ZLeB"
      }
    },
    {
      "cell_type": "markdown",
      "source": [
        "P1. Write a flowchart and python program, for displaying the first 10 numbers for the fibonacci sequence.\n"
      ],
      "metadata": {
        "id": "chsMhMTwiW7a"
      }
    },
    {
      "cell_type": "code",
      "execution_count": null,
      "metadata": {
        "id": "jBStrtlBgsSU",
        "colab": {
          "base_uri": "https://localhost:8080/"
        },
        "outputId": "3c363938-a288-40b2-c19e-3d2dd189a4d0"
      },
      "outputs": [
        {
          "output_type": "stream",
          "name": "stdout",
          "text": [
            "The Fibbonaci Sequence\n",
            "F2 : 1\n",
            "F3 : 1\n",
            "F4 : 2\n",
            "F5 : 3\n",
            "F6 : 5\n",
            "F7 : 8\n",
            "F8 : 13\n",
            "F9 : 21\n",
            "F10 : 34\n"
          ]
        }
      ],
      "source": [
        "# Initial Values\n",
        "n1 = 0\n",
        "n2 = 1\n",
        "i = 2\n",
        "\n",
        "# Loop through the sequence\n",
        "print(\"The Fibbonaci Sequence\")\n",
        "while i < 11:\n",
        "  nt = (n1+n2)\n",
        "  n1 = n2\n",
        "  n2 = nt\n",
        "\n",
        "  #Print out values\n",
        "  print(f\"F{i}\",\":\",n1)\n",
        "  i = i + 1"
      ]
    },
    {
      "cell_type": "markdown",
      "source": [
        "P2. Write an algorithm and python program to convert temperature from degree Celsius to Fahrenheit by using the formula. (F=9/5*C+32)."
      ],
      "metadata": {
        "id": "uqfYGHGXi2yt"
      }
    },
    {
      "cell_type": "code",
      "source": [
        "# Takes input in celsius\n",
        "C = int(input(\"What is the temp in C: \"))\n",
        "\n",
        "# Applies formula to convert to F\n",
        "F = (9/5) * C + 32\n",
        "\n",
        "# Prints results\n",
        "print(F, \"degrees F\")"
      ],
      "metadata": {
        "colab": {
          "base_uri": "https://localhost:8080/"
        },
        "id": "ASag8HAjdH7r",
        "outputId": "0fa5027f-4d75-4af3-e650-b0c0eba1fe1b"
      },
      "execution_count": null,
      "outputs": [
        {
          "output_type": "stream",
          "name": "stdout",
          "text": [
            "What is the temp in C: 65\n",
            "149.0 degrees F\n"
          ]
        }
      ]
    },
    {
      "cell_type": "markdown",
      "source": [
        "P3. Evaluate the following numerical expressions in your head, then use the Python interpreter to check your results for print(x). Do you get any error in either of these? If yes which expression and why?\n",
        "1. x= '55'+'5'\n",
        "> Will output '555'\n",
        "2. x= '786' * 3\n",
        "> Will output 786786786\n",
        "3. x= '35' +12\n",
        "> Error = Because the 35 is in quotes, the computer recognizes it as a string and therefore cannot add it to the integer 12\n",
        "4. x= 2**15\n",
        "> Prints out 2 ^ 15 = '32768'\n",
        "5. x= 8 % 6\n",
        "> Prints the remainder after 8 is divded by 6 = 2\n",
        "6. x=0 / 20\n",
        "> Prints 0 / 20 as a float = 0.0\n",
        "7. x= 20 % 0\n",
        "> Error = Cannot divide by the number 0\n"
      ],
      "metadata": {
        "id": "amzajYpbi9DC"
      }
    },
    {
      "cell_type": "markdown",
      "source": [
        "P4. Answer the following questions\n",
        "1. What is the output of print(type(\"40.3\"))? ***String***\n",
        "\n",
        "2. What is the output of type(range(5))? ***Range***\n",
        "\n",
        "3. What is the output of print(type({})) and why? ***Class = dict***\n",
        "\n",
        "\n",
        "4. What is the output of the following code print(bool(0),bool(3.14159),bool(-30.2),bool(1.0+2j))and why? ***False True True True*** **Bool is checking for whether the term is true or false (valid/ not); therefore any term that is not 0 or null will return a true value**\n",
        "\n",
        "5. Which of the following are valid names for a variable: a) ALS_assignment_! ***b) als_Assign*** c)ALS assignment ***d) als_Assignment_1***\n",
        "\n",
        "6. What is the output of the following code snippet and why?\n",
        "x = 'ALS_ASSIGNMENT'\n",
        "print(id(x)) ***140215922849776*** ***Id refers to the memory location, or the address that the variable x is stored in the computer memory***"
      ],
      "metadata": {
        "id": "YlZaROGZe5z6"
      }
    },
    {
      "cell_type": "markdown",
      "source": [],
      "metadata": {
        "id": "Ys8J5yvPaDGS"
      }
    },
    {
      "cell_type": "code",
      "source": [
        "set1 = {1,2,3}\n",
        "set2 = {3,4,5}\n",
        "\n",
        "new_set = set.union(set1, set2)\n",
        "print(new_set)"
      ],
      "metadata": {
        "colab": {
          "base_uri": "https://localhost:8080/"
        },
        "id": "WujeEHIDaDS4",
        "outputId": "8f4b13aa-8a06-4d62-a001-bce0a2cfea08"
      },
      "execution_count": null,
      "outputs": [
        {
          "output_type": "stream",
          "name": "stdout",
          "text": [
            "{1, 2, 3, 4, 5}\n"
          ]
        }
      ]
    },
    {
      "cell_type": "markdown",
      "source": [
        "\n",
        "P5. Do the participation activities of Zybook 1.8.1 to 1.8.7 given here\n",
        "1. Select the statement that prints the following: Welcome! (a) print(Welcome!) (b)\n",
        "print('Welcome!\") **(c)print('Welcome!')**\n",
        "\n",
        "2. Type a statement that prints the following: Hello\n",
        "```\n",
        "Print(\"Hello\")\n",
        "```\n",
        "\n",
        "3. Write the simplest statement that prints the following: \" 3 2 1 Go!\"\n",
        "```\n",
        "Print('\" 3 2 1 Go!\"')\n",
        "```\n",
        "\n",
        "4. Given the variable num_cars = 9, which statement prints 9? ***(a)print(num_cars)***\n",
        "(b)print(\"num_cars\")\n",
        "\n",
        "\n",
        "5. Write a statement that prints the value of the variable num_people.\n",
        "```\n",
        "Print(num_people)\n",
        "```\n",
        "6. The variables country_population = 1344130000 and country_name = 'China' have been defined and can be used for printing.\n",
        "Try printing the following output:\n",
        "The population of China was 1344130000 in 2011.\n",
        "\n",
        "```\n",
        "country_population = 1344130000\n",
        "country_name = 'China'\n",
        "print(\"The population of\", country_name, \"was\", country_population, \"in 2011\")\n",
        "```\n",
        "\n",
        "7. Assume variable age = 22, pet = \"dog\", and pet_name = \"Gerald\".\n",
        "a)What is the output of print('You are', age, 'years old.') ***You are 22 years old.***\n",
        "b)What is the output of print(pet_name, 'the', pet, 'is', age) ***Gerald the dog is 22***\n"
      ],
      "metadata": {
        "id": "yWhEiEfHgj1k"
      }
    }
  ]
}