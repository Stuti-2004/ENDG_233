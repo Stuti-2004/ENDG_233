{
  "nbformat": 4,
  "nbformat_minor": 0,
  "metadata": {
    "colab": {
      "provenance": [],
      "include_colab_link": true
    },
    "kernelspec": {
      "name": "python3",
      "display_name": "Python 3"
    },
    "language_info": {
      "name": "python"
    }
  },
  "cells": [
    {
      "cell_type": "markdown",
      "metadata": {
        "id": "view-in-github",
        "colab_type": "text"
      },
      "source": [
        "<a href=\"https://colab.research.google.com/github/Stuti-2004/ENDG_233/blob/main/ENDG_233_ALS_12.ipynb\" target=\"_parent\"><img src=\"https://colab.research.google.com/assets/colab-badge.svg\" alt=\"Open In Colab\"/></a>"
      ]
    },
    {
      "cell_type": "markdown",
      "source": [
        "Given a text le food.txt containing the availability of food items. Write a program that reads the\n",
        "information from the text le and outputs the available food items.\n"
      ],
      "metadata": {
        "id": "iVdlMX5qTYBA"
      }
    },
    {
      "cell_type": "code",
      "source": [
        "with open(\"food.txt\", \"r\") as food:\n",
        "  contents = food.readlines()\n",
        "  #print(contents)\n",
        "\n",
        "  for line in contents:\n",
        "    new_line= line.split(\"\\t\")\n",
        "    if (new_line[-1] == \"Available\\n\"):\n",
        "      print(new_line[1])"
      ],
      "metadata": {
        "colab": {
          "base_uri": "https://localhost:8080/"
        },
        "id": "QS1jY3XWR5Lk",
        "outputId": "99298295-6b45-4d01-c4f3-9b13d648e95c"
      },
      "execution_count": null,
      "outputs": [
        {
          "output_type": "stream",
          "name": "stdout",
          "text": [
            "Ham sandwich\n",
            "Chicken salad sandwich\n",
            "Water\n",
            "Beef tacos\n",
            "Coca-Cola\n"
          ]
        }
      ]
    },
    {
      "cell_type": "markdown",
      "source": [
        "In this problem, we will calculate the voltage drop across a series of resistors. If the total voltage\n",
        "across the resistors is V, then the current through the resistors will be I = V/R, where R is the sum of\n",
        "the resistances. The voltage drop Vx across resistor x is then Vx = I · Rx.\n",
        "\n",
        "\n",
        "Let's suppose the values of 20 resistors (connected in series in the circuit) are stored in a text le\n",
        "called my_circuit.txt. Use the values of resistors from the le and calculate the voltage drop across\n",
        "each of the resistors. Now, store the calculated voltage drop values for all 20 resistorsin a new le\n",
        "called resistors_voltages. Finally, read the values from the resistors_voltages le and display the\n",
        "output.\n",
        "Hint Copy the values of the resistors as a numpy array, do the calculations in numpy and save the\n",
        "output voltages as a numpy object in a .npy le."
      ],
      "metadata": {
        "id": "x_S7D21SJLsl"
      }
    },
    {
      "cell_type": "code",
      "source": [
        "import numpy as np\n",
        "\n",
        "with open(\"my_circuit.txt\", \"r\") as my_circuit:\n",
        "  resistors = my_circuit.readlines()\n",
        "  # Read values as list\n",
        "\n",
        "  res_list = [float(i.replace(\"\\n\",\"\")) for i in resistors]\n",
        "  # cast all the values to a float\n",
        "\n",
        "  tot_resistance = sum(res_list) #Take the sum of all the values\n",
        "\n",
        "  voltage_drop = [(i/tot_resistance) for i in res_list]\n",
        "  #Calculate the voltage drop by dividing i by total resistance\n",
        "\n",
        "  values = \"\"\n",
        "  for x in voltage_drop:\n",
        "    values += str(x)\n",
        "    values += \", \"\n",
        "  # Create one large string with all the calculated voltage drops\n",
        "\n",
        "r = open(\"resistors_voltages.txt\", \"w\")\n",
        "r.write(values)\n",
        "r.close()\n",
        "# Write to a new file\n",
        "\n",
        "with open(\"resistors_voltages.txt\", \"r\") as v:\n",
        "  contents = v.read()\n",
        "  print(f'Resistors have a value of {contents}')\n",
        "\n"
      ],
      "metadata": {
        "colab": {
          "base_uri": "https://localhost:8080/",
          "height": 245
        },
        "id": "f1WhDmeQK-6T",
        "outputId": "8cc3f846-c3a4-4ff2-a184-89c1cf24669d"
      },
      "execution_count": null,
      "outputs": [
        {
          "output_type": "error",
          "ename": "FileNotFoundError",
          "evalue": "ignored",
          "traceback": [
            "\u001b[0;31m---------------------------------------------------------------------------\u001b[0m",
            "\u001b[0;31mFileNotFoundError\u001b[0m                         Traceback (most recent call last)",
            "\u001b[0;32m<ipython-input-1-54c1a1823d94>\u001b[0m in \u001b[0;36m<module>\u001b[0;34m\u001b[0m\n\u001b[1;32m      1\u001b[0m \u001b[0;32mimport\u001b[0m \u001b[0mnumpy\u001b[0m \u001b[0;32mas\u001b[0m \u001b[0mnp\u001b[0m\u001b[0;34m\u001b[0m\u001b[0;34m\u001b[0m\u001b[0m\n\u001b[1;32m      2\u001b[0m \u001b[0;34m\u001b[0m\u001b[0m\n\u001b[0;32m----> 3\u001b[0;31m \u001b[0;32mwith\u001b[0m \u001b[0mopen\u001b[0m\u001b[0;34m(\u001b[0m\u001b[0;34m\"my_circuit.txt\"\u001b[0m\u001b[0;34m,\u001b[0m \u001b[0;34m\"r\"\u001b[0m\u001b[0;34m)\u001b[0m \u001b[0;32mas\u001b[0m \u001b[0mmy_circuit\u001b[0m\u001b[0;34m:\u001b[0m\u001b[0;34m\u001b[0m\u001b[0;34m\u001b[0m\u001b[0m\n\u001b[0m\u001b[1;32m      4\u001b[0m   \u001b[0mresistors\u001b[0m \u001b[0;34m=\u001b[0m \u001b[0mmy_circuit\u001b[0m\u001b[0;34m.\u001b[0m\u001b[0mreadlines\u001b[0m\u001b[0;34m(\u001b[0m\u001b[0;34m)\u001b[0m\u001b[0;34m\u001b[0m\u001b[0;34m\u001b[0m\u001b[0m\n\u001b[1;32m      5\u001b[0m   \u001b[0;31m# Read values as list\u001b[0m\u001b[0;34m\u001b[0m\u001b[0;34m\u001b[0m\u001b[0;34m\u001b[0m\u001b[0m\n",
            "\u001b[0;31mFileNotFoundError\u001b[0m: [Errno 2] No such file or directory: 'my_circuit.txt'"
          ]
        }
      ]
    },
    {
      "cell_type": "markdown",
      "source": [],
      "metadata": {
        "id": "O_QEdoLIgEIG"
      }
    },
    {
      "cell_type": "code",
      "source": [
        "import csv\n",
        "\n",
        "fuel = {}\n",
        "\n",
        "with open('fuel_prices.csv', 'r') as csvfile:\n",
        "    fuel_prices = csv.reader(csvfile)\n",
        "\n",
        "    first_row = True\n",
        "    for row in fuel_prices:\n",
        "        # Skip the first row with column names\n",
        "        if first_row:\n",
        "            first_row = False\n",
        "            continue\n",
        "\n",
        "        name = row[0]\n",
        "        #print(row)\n",
        "\n",
        "        prices = [float(cell) for cell in row[1:]]\n",
        "        avg_price = (sum(prices)/6)\n",
        "\n",
        "        # Cast to dictionary\n",
        "        fuel[name] = avg_price\n",
        "\n",
        "for city, price in fuel.items():\n",
        "    print(f'{city} has an average price of ${price:.2f}')\n",
        "    # Cycle through and print dictionary values\n",
        ""
      ],
      "metadata": {
        "colab": {
          "base_uri": "https://localhost:8080/"
        },
        "id": "3SlAT5QNgLIQ",
        "outputId": "818ead76-6eaf-42b7-be8b-668bbbb46661"
      },
      "execution_count": null,
      "outputs": [
        {
          "output_type": "stream",
          "name": "stdout",
          "text": [
            "St. John's, Newfoundland and Labrador has an average price of $196.10\n",
            "Charlottetown and Summerside, Prince Edward Island has an average price of $188.15\n",
            "Halifax, Nova Scotia has an average price of $180.63\n",
            "Saint John, New Brunswick has an average price of $184.48\n",
            "Québec, Quebec has an average price of $193.45\n",
            "Montréal, Quebec has an average price of $190.70\n",
            "Ottawa-Gatineau, Ontario part, Ontario/Quebec  has an average price of $178.77\n",
            "Toronto, Ontario has an average price of $178.83\n",
            "Thunder Bay, Ontario  has an average price of $185.53\n",
            "Winnipeg, Manitoba has an average price of $181.42\n",
            "Regina, Saskatchewan has an average price of $176.67\n",
            "Saskatoon, Saskatchewan has an average price of $174.48\n",
            "Edmonton, Alberta  has an average price of $160.50\n",
            "Calgary, Alberta  has an average price of $165.45\n",
            "Vancouver, British Columbia has an average price of $207.55\n",
            "Victoria, British Columbia has an average price of $204.20\n",
            "Whitehorse, Yukon has an average price of $197.23\n",
            "Yellowknife, Northwest Territories has an average price of $186.75\n"
          ]
        }
      ]
    },
    {
      "cell_type": "code",
      "source": [
        "\n"
      ],
      "metadata": {
        "id": "wcU7ULRKgNDs"
      },
      "execution_count": null,
      "outputs": []
    },
    {
      "cell_type": "markdown",
      "source": [
        "Emphasis on numpy and file reading, otherwise covers the whole course"
      ],
      "metadata": {
        "id": "yLlk65yYJGmi"
      }
    }
  ]
}