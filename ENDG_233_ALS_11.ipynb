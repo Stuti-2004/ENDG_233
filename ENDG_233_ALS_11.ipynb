{
  "nbformat": 4,
  "nbformat_minor": 0,
  "metadata": {
    "colab": {
      "provenance": [],
      "authorship_tag": "ABX9TyN298v6Yq/HZeAX8GDkRAGF",
      "include_colab_link": true
    },
    "kernelspec": {
      "name": "python3",
      "display_name": "Python 3"
    },
    "language_info": {
      "name": "python"
    }
  },
  "cells": [
    {
      "cell_type": "markdown",
      "metadata": {
        "id": "view-in-github",
        "colab_type": "text"
      },
      "source": [
        "<a href=\"https://colab.research.google.com/github/Stuti-2004/ENDG_233/blob/main/ENDG_233_ALS_11.ipynb\" target=\"_parent\"><img src=\"https://colab.research.google.com/assets/colab-badge.svg\" alt=\"Open In Colab\"/></a>"
      ]
    },
    {
      "cell_type": "markdown",
      "source": [
        "1. Write a python program that uses the numpy and pyplot modules to\n",
        "generate a plot of a sinusoidal signal. First generate an array of time that is\n",
        "sampled from t=0 to t=10 with N=1000 points. Then compute the samples\n",
        "of x(t) =2sin(0.5t+1). You must use one dimensional numpy arrays for x and\n",
        "t. Generate a plot of x(t) and add axis labelling, grid and title. Your plot\n",
        "should look like the following plot below:"
      ],
      "metadata": {
        "id": "NNkHgs6kZ0Qa"
      }
    },
    {
      "cell_type": "code",
      "source": [
        "import time\n",
        "import numpy as np\n",
        "from matplotlib import pyplot as plt\n",
        "\n",
        "N = 1000\n",
        "t = np.linspace(0,10,N)\n",
        "x = 2* np.sin((0.5*t)+1)\n",
        "\n",
        "plt.plot(t,x)\n",
        "plt.title(\"Plot of x(t)\")\n",
        "plt.xlabel('x')\n",
        "plt.ylabel('x(t)')\n",
        "plt.grid(True)\n",
        "plt.show()\n"
      ],
      "metadata": {
        "colab": {
          "base_uri": "https://localhost:8080/",
          "height": 295
        },
        "id": "o2ywB9UcZ1xM",
        "outputId": "50af0fd4-a854-4b1b-c0a9-2bc9e0efdccf"
      },
      "execution_count": null,
      "outputs": [
        {
          "output_type": "display_data",
          "data": {
            "text/plain": [
              "<Figure size 432x288 with 1 Axes>"
            ],
            "image/png": "[encoded data removed]"
          },
          "metadata": {
            "needs_background": "light"
          }
        }
      ]
    },
    {
      "cell_type": "markdown",
      "source": [
        "Write a python program that takes the one dimensional vectors of t and\n",
        "x in P1 and puts these into a two dimensional array of size N by 2 called D.\n",
        "Then store D in a numpy binary data file called sinewave.npy\n"
      ],
      "metadata": {
        "id": "-L1Im0BohT7q"
      }
    },
    {
      "cell_type": "code",
      "source": [
        "import numpy as np\n",
        "from matplotlib import pyplot as plt\n",
        "\n",
        "N = 1000\n",
        "t = np.linspace(0,10,N)\n",
        "x = 2* np.sin((0.5*t)+1)\n",
        "\n",
        "d = np.array([t,x])\n",
        "np.save(\"Sinewave\", d) #npy"
      ],
      "metadata": {
        "id": "VqlglQeshTIe"
      },
      "execution_count": null,
      "outputs": []
    },
    {
      "cell_type": "markdown",
      "source": [
        "P3. Assign a numpy array of D to the data file of sinewave.npy (created in\n",
        "P2) using np.load(). Restore the arrays of t and x from the first and second\n",
        "column D. Then sort x in ascending value from the minimum value of x to the\n",
        "maximum value of x. Assign xs as the sorted array. Plot xs with respect to\n",
        "the index of xs. That is the index of integers from 0 to N-1 along the\n",
        "abscissa and the values of xs along the ordinate of the plot. Your plot\n",
        "should look like the following plot below:"
      ],
      "metadata": {
        "id": "oJNxfOVajFqu"
      }
    },
    {
      "cell_type": "code",
      "source": [
        "import numpy as np\n",
        "from matplotlib import pyplot as plt\n",
        "\n",
        "d = np.load(\"Sinewave.npy\")\n",
        "\n",
        "t_array = d[0] #time\n",
        "x_array = d[1] #sin values\n",
        "\n",
        "xs = np.sort(x_array)\n",
        "\n",
        "plt.plot(xs)\n",
        "\n",
        "# Formatting\n",
        "plt.title(\"Plot of xs\")\n",
        "plt.xlabel('index')\n",
        "plt.ylabel('xs')\n",
        "plt.grid(True)\n",
        "plt.show()\n",
        "\n",
        "# Question 4\n",
        "#print(len(x_array [ (x_array >= -0.5) & (x_array <= 0.5)]))\n",
        "x_array[(x_array >= -0.5) & (x_array <= 0.5)].size"
      ],
      "metadata": {
        "colab": {
          "base_uri": "https://localhost:8080/",
          "height": 312
        },
        "id": "CgQNa2aujHfg",
        "outputId": "de13c03c-03b6-4261-d61d-d2f6ffdc08a6"
      },
      "execution_count": null,
      "outputs": [
        {
          "output_type": "display_data",
          "data": {
            "text/plain": [
              "<Figure size 432x288 with 1 Axes>"
            ],
            "image/png": "[encoded data removed]"
          },
          "metadata": {
            "needs_background": "light"
          }
        },
        {
          "output_type": "execute_result",
          "data": {
            "text/plain": [
              "101"
            ]
          },
          "metadata": {},
          "execution_count": 28
        }
      ]
    },
    {
      "cell_type": "markdown",
      "source": [
        "Write a single statement that will determine the number of samples of\n",
        "the array x that are in the interval of −0.5 ≤ x ≤ 0.5"
      ],
      "metadata": {
        "id": "3Pm0Vw3xp2iU"
      }
    },
    {
      "cell_type": "code",
      "source": [
        "print(len(x_array [ (x_array >= -0.5) * (x_array <= 0.5)]))"
      ],
      "metadata": {
        "id": "nuNwfdqKp3hm"
      },
      "execution_count": null,
      "outputs": []
    },
    {
      "cell_type": "markdown",
      "source": [
        "Redo P1 plotting the values of x as a function of t. However, this time\n",
        "make the color of the trace of x(t) have the following colors:\n",
        "interval of x color of trace x(t)\n",
        "|x(t)|<0.5 green\n",
        "0.5<=|x(t)|<1 yellow\n",
        "|x(t)|>1 red\n",
        "Use np.where to find the indices of the intervals. Also, to simplify the\n",
        "plotting of the multiple regions use dots to plot the points.\n",
        "The plot should look something like this\n"
      ],
      "metadata": {
        "id": "Fdqbpb3dIc0h"
      }
    },
    {
      "cell_type": "code",
      "source": [
        "import time\n",
        "import numpy as np\n",
        "from matplotlib import pyplot as plt\n",
        "\n",
        "N = 1000\n",
        "t = np.linspace(0,10,N)\n",
        "x = 2* np.sin((0.5*t)+1)\n",
        "\n",
        "green = (np.where(abs(x) < 0.5, x, None))\n",
        "yellow = (np.where((abs(x) >= 0.5) & (abs(x) < 1), x, None))\n",
        "red = (np.where(abs(x) > 1, x, None))\n",
        "\n",
        "plt.plot(t, green, \"g\")\n",
        "plt.plot(t, red, \"r\")\n",
        "plt.plot(t, yellow, \"y\")\n",
        "\n",
        "plt.title(\"Plot of x(t)\")\n",
        "plt.xlabel('x')\n",
        "plt.ylabel('x(t)')\n",
        "plt.grid(True)\n",
        "plt.show()\n",
        "\n"
      ],
      "metadata": {
        "colab": {
          "base_uri": "https://localhost:8080/",
          "height": 295
        },
        "id": "_XNuSFsEIgiN",
        "outputId": "dc4b1ca8-8ecf-4eb7-eed9-cdeee0532173"
      },
      "execution_count": null,
      "outputs": [
        {
          "output_type": "display_data",
          "data": {
            "text/plain": [
              "<Figure size 432x288 with 1 Axes>"
            ],
            "image/png": "[encoded data removed]"
          },
          "metadata": {
            "needs_background": "light"
          }
        }
      ]
    }
  ]
}