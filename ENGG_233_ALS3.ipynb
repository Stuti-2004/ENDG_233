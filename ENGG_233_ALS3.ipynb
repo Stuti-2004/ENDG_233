{
  "nbformat": 4,
  "nbformat_minor": 0,
  "metadata": {
    "colab": {
      "provenance": [],
      "authorship_tag": "ABX9TyNrOsuJJLNwgOQ9Rs8vs5vu",
      "include_colab_link": true
    },
    "kernelspec": {
      "name": "python3",
      "display_name": "Python 3"
    },
    "language_info": {
      "name": "python"
    }
  },
  "cells": [
    {
      "cell_type": "markdown",
      "metadata": {
        "id": "view-in-github",
        "colab_type": "text"
      },
      "source": [
        "<a href=\"https://colab.research.google.com/github/Stuti-2004/ENDG_233/blob/main/ENGG_233_ALS3.ipynb\" target=\"_parent\"><img src=\"https://colab.research.google.com/assets/colab-badge.svg\" alt=\"Open In Colab\"/></a>"
      ]
    },
    {
      "cell_type": "markdown",
      "source": [
        "# **ALS-3 Variables and Expressions**\n",
        "Stuti Garg\n",
        "September 21 2022"
      ],
      "metadata": {
        "id": "p6L4vqKs-SvV"
      }
    },
    {
      "cell_type": "markdown",
      "source": [
        "P1. Draw the flowchart and write the code for a program that takes\n",
        "in three integers and outputs the smallest value. Prompt the user\n",
        "with the following message:"
      ],
      "metadata": {
        "id": "2-7Jk0SI-cyO"
      }
    },
    {
      "cell_type": "code",
      "source": [
        "intA = int(input(\"Please enter the first integer value to compare: \"))\n",
        "intB = int(input(\"Please enter the second integer value to compare: \"))\n",
        "intC = int(input(\"Please enter the third integer value to compare: \"))\n",
        "\n",
        "if (intA < intB) and (intA < intC):\n",
        "  print(\"Smallest value is\", intA)\n",
        "\n",
        "elif (intB < intA) and (intB < intC):\n",
        "  print(\"Smallest value is\", intB)\n",
        "\n",
        "else:\n",
        "  print(\"Smallest value is\", intC)"
      ],
      "metadata": {
        "colab": {
          "base_uri": "https://localhost:8080/"
        },
        "id": "cz3ftJtY-b27",
        "outputId": "ebc4366b-cc04-41c9-bfe7-9f5183d23cfb"
      },
      "execution_count": null,
      "outputs": [
        {
          "output_type": "stream",
          "name": "stdout",
          "text": [
            "Please enter the first integer value to compare: 6\n",
            "Please enter the second integer value to compare: 7\n",
            "Please enter the third integer value to compare: 8\n",
            "Smallest value is 6\n"
          ]
        }
      ]
    },
    {
      "cell_type": "markdown",
      "source": [
        "Quarterback: 1 to 19\n",
        "Running back: 20 to 39\n",
        "Tight end: 40 to 49 or 80 to 89\n",
        "Linebacker: 50 to 59 or 90 to 99\n",
        "Wide Receiver: 60 to 69\n",
        "Defensive lineman: 70 to 79\n",
        "Print error message if invalid jersey number is entered\n",
        "In [ ]:"
      ],
      "metadata": {
        "id": "B1KiHFMN_Iop"
      }
    },
    {
      "cell_type": "code",
      "source": [
        "jerseyNum = int(input(\"Enter jersey number: \"))\n",
        "\n",
        "if (1 <= jerseyNum <= 19):\n",
        "  print(\"Quarterback\")\n",
        "\n",
        "elif (20 <= jerseyNum <= 39):\n",
        "  print(\"Running Back\")\n",
        "\n",
        "elif (40 <= jerseyNum <= 59) or (80 <= jerseyNum <= 89):\n",
        "  print(\"Tight End\")\n",
        "\n",
        "elif (50 <= jerseyNum <= 59) or (90 <= jerseyNum <= 99):\n",
        "  print(\"Line backer\")\n",
        "\n",
        "elif (60 <= jerseyNum <= 69):\n",
        "  print(\"Wide Receiver\")\n",
        "\n",
        "elif (70 <= jerseyNum <= 79):\n",
        "  print(\"Defensive lineman\")\n",
        "\n",
        "else:\n",
        "  print(\"Inavlid Input\")\n"
      ],
      "metadata": {
        "colab": {
          "base_uri": "https://localhost:8080/"
        },
        "id": "F1mU-4Ez_K7S",
        "outputId": "5c927036-7683-4610-a85d-675eb6c4c9eb"
      },
      "execution_count": null,
      "outputs": [
        {
          "output_type": "stream",
          "name": "stdout",
          "text": [
            "Enter jersey number: 100\n",
            "Inavlid Input\n"
          ]
        }
      ]
    },
    {
      "cell_type": "markdown",
      "source": [
        "Write a program that asks the user for two words and prints\n",
        "the word that comes first in the alphabet"
      ],
      "metadata": {
        "id": "-Pn88ZC2HWFz"
      }
    },
    {
      "cell_type": "code",
      "source": [
        "word1 = input(\"Enter first word: \")\n",
        "word2 = input(\"Enter second word: \")\n",
        "\n",
        "if (word1 <= word2):\n",
        "  print(word1)\n",
        "else:\n",
        "  print(word2)\n"
      ],
      "metadata": {
        "id": "azOkzzkh3ptU",
        "colab": {
          "base_uri": "https://localhost:8080/"
        },
        "outputId": "c65afc72-1eb6-4375-f21f-68f03892c9d4"
      },
      "execution_count": null,
      "outputs": [
        {
          "output_type": "stream",
          "name": "stdout",
          "text": [
            "Enter first word: app\n",
            "Enter second word: bee\n",
            "app\n"
          ]
        }
      ]
    },
    {
      "cell_type": "markdown",
      "source": [
        "P4. You are asked to create a calculator program that:\n",
        "1. Asks for two numbers to be entered in\n",
        "2. Prints the menu listed below to the screen\n",
        "3. Accepts user input for the menu selection\n",
        "4. Performs the requested computation\n",
        "5. Prints calculator to screen\n",
        "CALCULATOR MENU\n",
        "Select which calculation you would like to perform:\n",
        "1. Add numbers\n",
        "2. Subtract numbers\n",
        "3. Multiply numbers\n",
        "4. Divide numbers\n",
        "Print error message if invalid menu selection is entered\n",
        "If user attempts to divide by zero, skip calculation and print error message\n",
        "In [ ]:"
      ],
      "metadata": {
        "id": "GdSejXErrkjh"
      }
    },
    {
      "cell_type": "code",
      "source": [
        "int1 = int(input(\"Enter first number: \"))\n",
        "int2 = int(input(\"Enter second number: \"))\n",
        "total = 0\n",
        "\n",
        "print (\"\\nSelect which calculation you would like to perform:\\n1. Add numbers\\n2. Subtract numbers\\n3. Multiply numbers\\n4. Divide numbers\")\n",
        "selection = int(input(\"\\nselect calculation: \"))\n",
        "\n",
        "#if (type(selection) != int):\n",
        " # print(\"Invalid input\")\n",
        "\n",
        "if (1 <= selection <= 4):\n",
        "  if (selection == 1):\n",
        "    total = int1 + int2\n",
        "    print(total)\n",
        "\n",
        "  elif (selection == 2):\n",
        "    total = int1 - int2\n",
        "    print(total)\n",
        "\n",
        "  elif (selection == 3):\n",
        "    total = int1 * int2\n",
        "    print(total)\n",
        "\n",
        "  elif (selection == 4):\n",
        "    if (int2 != 0):\n",
        "      total = int1 / int2\n",
        "      print(total)\n",
        "    else:\n",
        "      print(\"Invalid input\")\n",
        "\n"
      ],
      "metadata": {
        "id": "9z8PgBKU_G-w",
        "colab": {
          "base_uri": "https://localhost:8080/"
        },
        "outputId": "9c5be45b-6812-4ddc-957a-cd0277f5f926"
      },
      "execution_count": null,
      "outputs": [
        {
          "output_type": "stream",
          "name": "stdout",
          "text": [
            "Enter first number: 9\n",
            "Enter second number: 3\n",
            "\n",
            "Select which calculation you would like to perform:\n",
            "1. Add numbers\n",
            "2. Subtract numbers\n",
            "3. Multiply numbers\n",
            "4. Divide numbers\n",
            "\n",
            "select calculation: 3\n",
            "27\n"
          ]
        }
      ]
    },
    {
      "cell_type": "code",
      "source": [
        "type(5)"
      ],
      "metadata": {
        "colab": {
          "base_uri": "https://localhost:8080/"
        },
        "id": "chMnm7IcxZS5",
        "outputId": "9940f708-321d-49eb-9b54-d819085923b3"
      },
      "execution_count": null,
      "outputs": [
        {
          "output_type": "execute_result",
          "data": {
            "text/plain": [
              "int"
            ]
          },
          "metadata": {},
          "execution_count": 6
        }
      ]
    },
    {
      "cell_type": "code",
      "source": [],
      "metadata": {
        "id": "iwyJMdoRxaiZ"
      },
      "execution_count": null,
      "outputs": []
    }
  ]
}